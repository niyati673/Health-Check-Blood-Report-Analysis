{
  "nbformat": 4,
  "nbformat_minor": 0,
  "metadata": {
    "colab": {
      "provenance": []
    },
    "kernelspec": {
      "name": "python3",
      "display_name": "Python 3"
    },
    "language_info": {
      "name": "python"
    }
  },
  "cells": [
    {
      "cell_type": "code",
      "source": [
        "import pandas as pd\n",
        "from sklearn.model_selection import train_test_split, cross_val_score\n",
        "from sklearn.ensemble import RandomForestClassifier\n",
        "from sklearn.preprocessing import LabelEncoder\n",
        "from sklearn.metrics import accuracy_score, classification_report\n",
        "from sklearn.feature_selection import SelectKBest, f_classif\n",
        "\n",
        "# Load dataset\n",
        "df = pd.read_csv(\"blood_report_with_disease.csv\")\n",
        "\n",
        "# Check for duplicates and drop them\n",
        "df = df.drop_duplicates()\n",
        "\n",
        "# Separate features and target\n",
        "X = df.drop(columns=['Disease'])  # Assuming 'Disease' is the target column\n",
        "y = df['Disease']\n",
        "\n",
        "# Encode target labels if they're categorical\n",
        "label_encoder = LabelEncoder()\n",
        "y = label_encoder.fit_transform(y)\n",
        "\n",
        "# Feature selection to reduce dimensionality\n",
        "selector = SelectKBest(score_func=f_classif, k=5)  # Try fewer features\n",
        "X_selected = selector.fit_transform(X, y)\n",
        "\n",
        "# Train-test split\n",
        "X_train, X_test, y_train, y_test = train_test_split(X_selected, y, test_size=0.2, random_state=42)\n",
        "\n",
        "# Switch to RandomForest with limited depth and fewer estimators\n",
        "rf = RandomForestClassifier(\n",
        "    n_estimators=50,       # Fewer trees\n",
        "    max_depth=3,           # Shallow trees\n",
        "    random_state=42\n",
        ")\n",
        "\n",
        "# Cross-validation to assess model performance on multiple folds\n",
        "cross_val_scores = cross_val_score(rf, X_train, y_train, cv=5, scoring='accuracy')\n",
        "print(f\"Cross-validation accuracy (mean): {cross_val_scores.mean() * 100:.2f}%\")\n",
        "\n",
        "# Train the RandomForest model\n",
        "rf.fit(X_train, y_train)\n",
        "\n",
        "# Model evaluation - predict and calculate accuracy\n",
        "y_pred = rf.predict(X_test)\n",
        "accuracy = accuracy_score(y_test, y_pred)\n",
        "print(f\"Model accuracy on test set: {accuracy * 100:.2f}%\")\n",
        "\n",
        "# Print classification report for more detailed performance metrics\n",
        "print(classification_report(y_test, y_pred, target_names=label_encoder.classes_))\n"
      ],
      "metadata": {
        "colab": {
          "base_uri": "https://localhost:8080/"
        },
        "id": "Hgqvyg81TCRb",
        "outputId": "c73b3b4f-701d-4816-c919-1755ab2f19bc"
      },
      "execution_count": null,
      "outputs": [
        {
          "output_type": "stream",
          "name": "stdout",
          "text": [
            "Cross-validation accuracy (mean): 82.00%\n",
            "Model accuracy on test set: 85.00%\n",
            "                  precision    recall  f1-score   support\n",
            "\n",
            "          Anemia       0.60      0.19      0.29        16\n",
            "    Leukocytosis       0.67      1.00      0.80         2\n",
            "      Leukopenia       1.00      0.89      0.94         9\n",
            "          Normal       0.84      1.00      0.91        48\n",
            "Thrombocytopenia       0.89      0.96      0.92        25\n",
            "\n",
            "        accuracy                           0.85       100\n",
            "       macro avg       0.80      0.81      0.77       100\n",
            "    weighted avg       0.83      0.85      0.82       100\n",
            "\n"
          ]
        }
      ]
    }
  ]
}